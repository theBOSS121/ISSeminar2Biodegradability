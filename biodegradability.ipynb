{
 "cells": [
  {
   "cell_type": "code",
   "execution_count": 27,
   "metadata": {},
   "outputs": [],
   "source": [
    "import numpy as np\n",
    "from matplotlib import pyplot as plt\n",
    "import pandas as pd\n",
    "import random\n",
    "\n",
    "from sklearn.neighbors import KNeighborsClassifier\n",
    "from sklearn.tree import DecisionTreeClassifier\n",
    "from sklearn.ensemble import AdaBoostClassifier\n",
    "from sklearn.svm import SVC\n",
    "from sklearn.ensemble import RandomForestClassifier\n",
    "\n",
    "from sklearn.metrics import accuracy_score\n",
    "from sklearn.metrics import f1_score\n",
    "from sklearn.metrics import roc_auc_score\n",
    "from sklearn.metrics import precision_score\n",
    "from sklearn.metrics import recall_score\n",
    "\n",
    "from sklearn.model_selection import cross_validate\n",
    "from sklearn.model_selection import RepeatedKFold\n",
    "from sklearn.model_selection import GridSearchCV\n",
    "from sklearn.model_selection import RandomizedSearchCV"
   ]
  },
  {
   "attachments": {},
   "cell_type": "markdown",
   "metadata": {},
   "source": [
    "### Importing training and testing data sets, eploratory analysis of features"
   ]
  },
  {
   "cell_type": "code",
   "execution_count": 28,
   "metadata": {},
   "outputs": [
    {
     "data": {
      "text/html": [
       "<div>\n",
       "<style scoped>\n",
       "    .dataframe tbody tr th:only-of-type {\n",
       "        vertical-align: middle;\n",
       "    }\n",
       "\n",
       "    .dataframe tbody tr th {\n",
       "        vertical-align: top;\n",
       "    }\n",
       "\n",
       "    .dataframe thead th {\n",
       "        text-align: right;\n",
       "    }\n",
       "</style>\n",
       "<table border=\"1\" class=\"dataframe\">\n",
       "  <thead>\n",
       "    <tr style=\"text-align: right;\">\n",
       "      <th></th>\n",
       "      <th>V1</th>\n",
       "      <th>V2</th>\n",
       "      <th>V3</th>\n",
       "      <th>V4</th>\n",
       "      <th>V5</th>\n",
       "      <th>V6</th>\n",
       "      <th>V7</th>\n",
       "      <th>V8</th>\n",
       "      <th>V9</th>\n",
       "      <th>V10</th>\n",
       "      <th>...</th>\n",
       "      <th>V33</th>\n",
       "      <th>V34</th>\n",
       "      <th>V35</th>\n",
       "      <th>V36</th>\n",
       "      <th>V37</th>\n",
       "      <th>V38</th>\n",
       "      <th>V39</th>\n",
       "      <th>V40</th>\n",
       "      <th>V41</th>\n",
       "      <th>Class</th>\n",
       "    </tr>\n",
       "  </thead>\n",
       "  <tbody>\n",
       "    <tr>\n",
       "      <th>3</th>\n",
       "      <td>3.932</td>\n",
       "      <td>3.2512</td>\n",
       "      <td>0</td>\n",
       "      <td>0.0</td>\n",
       "      <td>0</td>\n",
       "      <td>0</td>\n",
       "      <td>0</td>\n",
       "      <td>26.7</td>\n",
       "      <td>2</td>\n",
       "      <td>4</td>\n",
       "      <td>...</td>\n",
       "      <td>0</td>\n",
       "      <td>0</td>\n",
       "      <td>1</td>\n",
       "      <td>3.076</td>\n",
       "      <td>2.417</td>\n",
       "      <td>0</td>\n",
       "      <td>7.601</td>\n",
       "      <td>0</td>\n",
       "      <td>0</td>\n",
       "      <td>2</td>\n",
       "    </tr>\n",
       "    <tr>\n",
       "      <th>5</th>\n",
       "      <td>4.236</td>\n",
       "      <td>3.3944</td>\n",
       "      <td>0</td>\n",
       "      <td>0.0</td>\n",
       "      <td>0</td>\n",
       "      <td>0</td>\n",
       "      <td>0</td>\n",
       "      <td>29.4</td>\n",
       "      <td>2</td>\n",
       "      <td>4</td>\n",
       "      <td>...</td>\n",
       "      <td>0</td>\n",
       "      <td>0</td>\n",
       "      <td>0</td>\n",
       "      <td>3.351</td>\n",
       "      <td>2.405</td>\n",
       "      <td>0</td>\n",
       "      <td>8.003</td>\n",
       "      <td>0</td>\n",
       "      <td>0</td>\n",
       "      <td>2</td>\n",
       "    </tr>\n",
       "    <tr>\n",
       "      <th>6</th>\n",
       "      <td>4.236</td>\n",
       "      <td>3.4286</td>\n",
       "      <td>0</td>\n",
       "      <td>0.0</td>\n",
       "      <td>0</td>\n",
       "      <td>0</td>\n",
       "      <td>0</td>\n",
       "      <td>28.6</td>\n",
       "      <td>2</td>\n",
       "      <td>4</td>\n",
       "      <td>...</td>\n",
       "      <td>0</td>\n",
       "      <td>0</td>\n",
       "      <td>0</td>\n",
       "      <td>3.351</td>\n",
       "      <td>2.556</td>\n",
       "      <td>0</td>\n",
       "      <td>7.904</td>\n",
       "      <td>0</td>\n",
       "      <td>0</td>\n",
       "      <td>2</td>\n",
       "    </tr>\n",
       "    <tr>\n",
       "      <th>7</th>\n",
       "      <td>5.000</td>\n",
       "      <td>5.0476</td>\n",
       "      <td>1</td>\n",
       "      <td>0.0</td>\n",
       "      <td>0</td>\n",
       "      <td>0</td>\n",
       "      <td>0</td>\n",
       "      <td>11.1</td>\n",
       "      <td>0</td>\n",
       "      <td>3</td>\n",
       "      <td>...</td>\n",
       "      <td>0</td>\n",
       "      <td>0</td>\n",
       "      <td>1</td>\n",
       "      <td>4.712</td>\n",
       "      <td>4.583</td>\n",
       "      <td>0</td>\n",
       "      <td>9.303</td>\n",
       "      <td>0</td>\n",
       "      <td>0</td>\n",
       "      <td>2</td>\n",
       "    </tr>\n",
       "    <tr>\n",
       "      <th>8</th>\n",
       "      <td>4.525</td>\n",
       "      <td>3.8301</td>\n",
       "      <td>0</td>\n",
       "      <td>0.0</td>\n",
       "      <td>0</td>\n",
       "      <td>0</td>\n",
       "      <td>0</td>\n",
       "      <td>31.6</td>\n",
       "      <td>3</td>\n",
       "      <td>2</td>\n",
       "      <td>...</td>\n",
       "      <td>0</td>\n",
       "      <td>0</td>\n",
       "      <td>0</td>\n",
       "      <td>3.379</td>\n",
       "      <td>2.143</td>\n",
       "      <td>0</td>\n",
       "      <td>7.950</td>\n",
       "      <td>0</td>\n",
       "      <td>0</td>\n",
       "      <td>2</td>\n",
       "    </tr>\n",
       "  </tbody>\n",
       "</table>\n",
       "<p>5 rows × 42 columns</p>\n",
       "</div>"
      ],
      "text/plain": [
       "      V1      V2  V3   V4  V5  V6  V7    V8  V9  V10  ...  V33  V34  V35  \\\n",
       "3  3.932  3.2512   0  0.0   0   0   0  26.7   2    4  ...    0    0    1   \n",
       "5  4.236  3.3944   0  0.0   0   0   0  29.4   2    4  ...    0    0    0   \n",
       "6  4.236  3.4286   0  0.0   0   0   0  28.6   2    4  ...    0    0    0   \n",
       "7  5.000  5.0476   1  0.0   0   0   0  11.1   0    3  ...    0    0    1   \n",
       "8  4.525  3.8301   0  0.0   0   0   0  31.6   3    2  ...    0    0    0   \n",
       "\n",
       "     V36    V37  V38    V39  V40  V41  Class  \n",
       "3  3.076  2.417    0  7.601    0    0      2  \n",
       "5  3.351  2.405    0  8.003    0    0      2  \n",
       "6  3.351  2.556    0  7.904    0    0      2  \n",
       "7  4.712  4.583    0  9.303    0    0      2  \n",
       "8  3.379  2.143    0  7.950    0    0      2  \n",
       "\n",
       "[5 rows x 42 columns]"
      ]
     },
     "execution_count": 28,
     "metadata": {},
     "output_type": "execute_result"
    }
   ],
   "source": [
    "train = pd.read_csv('train.csv')\n",
    "test = pd.read_csv('test.csv')\n",
    "\n",
    "train.head() # display a few samples"
   ]
  },
  {
   "cell_type": "code",
   "execution_count": 29,
   "metadata": {},
   "outputs": [],
   "source": [
    "# f = plt.figure(figsize=(15, 15))\n",
    "\n",
    "# for i, col in enumerate(train.columns):\n",
    "#     print(col, len(train[col].unique()), end=\"; \")\n",
    "#     f.add_subplot(7, 6, i+1)\n",
    "#     plt.title(col)\n",
    "#     plt.ylabel(col)\n",
    "#     plt.xlabel(\"indexes\")\n",
    "#     plt.tight_layout()\n",
    "#     plt.plot(train[col][train['Class'] == 1], \"bo\", markersize=\"1\")\n",
    "#     plt.plot(train[col][train['Class'] == 2], \"ro\", markersize=\"1\")"
   ]
  },
  {
   "cell_type": "code",
   "execution_count": 30,
   "metadata": {},
   "outputs": [],
   "source": [
    "# f = plt.figure(figsize=(10, 8))\n",
    "\n",
    "# b = [26, 35, 38, 0]\n",
    "# a = train.columns[b]\n",
    "\n",
    "# counter = 1\n",
    "# for i, col in enumerate(a):\n",
    "#     for j, col2 in enumerate(a[i+1:]):\n",
    "#         f.add_subplot(2, 3, counter)\n",
    "#         plt.title(col + \" \" + col2)\n",
    "#         plt.ylabel(col2)\n",
    "#         plt.xlabel(col)\n",
    "#         plt.tight_layout()\n",
    "#         plt.plot(train[col][train['Class'] == 1], train[col2][train['Class'] == 1], \"bo\", markersize=\"2\")\n",
    "#         plt.plot(train[col][train['Class'] == 2], train[col2][train['Class'] == 2], \"ro\", markersize=\"2\")\n",
    "#         counter += 1\n",
    "\n",
    "# plt.show()"
   ]
  },
  {
   "cell_type": "code",
   "execution_count": 31,
   "metadata": {},
   "outputs": [],
   "source": [
    "# f = plt.figure(figsize=(15, 15))\n",
    "\n",
    "# for i, col in enumerate(train.columns):\n",
    "#     f.add_subplot(7, 6, i+1)\n",
    "#     plt.title(col)\n",
    "#     plt.tight_layout()\n",
    "#     plt.boxplot(train[col])"
   ]
  },
  {
   "attachments": {},
   "cell_type": "markdown",
   "metadata": {},
   "source": [
    "2.1 Exploration\n",
    "\n",
    "Inspect the dataset. How balanced is the target variable? Are there any missing values present? If there\n",
    "are, choose a strategy that takes this into account.\n",
    "Most of your data is of the numeric type. Can you identify, by adopting exploratory analysis, whether\n",
    "some features are directly related to the target? What about feature pairs? Produce at least three types of\n",
    "visualizations of the feature space and be prepared to argue why these visualizations were useful for your\n",
    "subsequent analysis."
   ]
  },
  {
   "attachments": {},
   "cell_type": "markdown",
   "metadata": {},
   "source": [
    "Target variable distributions in test and training sets are close to [2/3 1/3].\n",
    "\n",
    "Yes, there are some missing values. One possible strategy is to drop those that don't have all values. Some classifiers however don't really need all information, so you can just ignore missing rows for that specific attributes.\n",
    "\n",
    "The visualizations are above. I haven't found anything very concrete some of the features are more and some less releted to target. Random forest feature importances helped me to know which attributes are less/more important"
   ]
  },
  {
   "attachments": {},
   "cell_type": "markdown",
   "metadata": {},
   "source": [
    "### Majority classifier"
   ]
  },
  {
   "cell_type": "code",
   "execution_count": 32,
   "metadata": {},
   "outputs": [
    {
     "name": "stdout",
     "output_type": "stream",
     "text": [
      "Class distribution (train)\n",
      "1    564\n",
      "2    282\n",
      "Name: Class, dtype: int64\n",
      "Percentage:\n",
      "0.6666666666666666\n",
      "Class distribution (test)\n",
      "1    135\n",
      "2     74\n",
      "Name: Class, dtype: int64\n",
      "Percentage:\n",
      "0.645933014354067\n"
     ]
    }
   ],
   "source": [
    "majority = train['Class'].value_counts()\n",
    "majorityArr = np.array(majority)\n",
    "print(\"Class distribution (train)\")\n",
    "print(majority)\n",
    "print(\"Percentage:\")\n",
    "print(np.array(majorityArr[0] / np.sum(majorityArr)))\n",
    "\n",
    "majorityTest = test['Class'].value_counts()\n",
    "majorityTestArr = np.array(majorityTest)\n",
    "print(\"Class distribution (test)\")\n",
    "print(majorityTest)\n",
    "print(\"Percentage:\")\n",
    "print(np.array(majorityTestArr[0] / np.sum(majorityTestArr)))"
   ]
  },
  {
   "attachments": {},
   "cell_type": "markdown",
   "metadata": {},
   "source": [
    "### Random classifier\n",
    "\n",
    "There are two classes if we choose between them randomly accuracy is 1/2"
   ]
  },
  {
   "attachments": {},
   "cell_type": "markdown",
   "metadata": {},
   "source": [
    "### Preprocessing"
   ]
  },
  {
   "cell_type": "code",
   "execution_count": 76,
   "metadata": {},
   "outputs": [],
   "source": [
    "# removing NA values from train dataframe\n",
    "train = train.dropna()\n",
    "# Separate input features (X) and target variable (y)\n",
    "y = train.Class\n",
    "X = train.drop('Class', axis=1)\n",
    "testY = test.Class\n",
    "testX = test.drop('Class', axis=1)\n",
    "\n",
    "# drop bad columns\n",
    "# dropColumns = np.array(['V26', 'V29', 'V19', 'V21', 'V24', 'V20', 'V4'])\n",
    "# X = X.drop(dropColumns, axis=1)\n",
    "# testX = testX.drop(dropColumns, axis=1)"
   ]
  },
  {
   "attachments": {},
   "cell_type": "markdown",
   "metadata": {},
   "source": [
    "### Decision tree"
   ]
  },
  {
   "cell_type": "code",
   "execution_count": 67,
   "metadata": {},
   "outputs": [
    {
     "name": "stdout",
     "output_type": "stream",
     "text": [
      "0.8181818181818182\n",
      "0.8043043043043043\n",
      "0.8582089552238805\n",
      "0.8646616541353384\n",
      "0.8518518518518519\n"
     ]
    }
   ],
   "source": [
    "clf_decitionTree = DecisionTreeClassifier(random_state=0)\n",
    "clf_decitionTree.fit(X, y)\n",
    "\n",
    "pred_y_decitionTree = clf_decitionTree.predict(testX)\n",
    "print(accuracy_score(testY, pred_y_decitionTree))\n",
    "prob_y_decisionTree = clf_decitionTree.predict_proba(testX)\n",
    "prob_y_decisionTree = [p[1] for p in prob_y_decisionTree]\n",
    "print(roc_auc_score(testY, prob_y_decisionTree))\n",
    "print(f1_score(testY, pred_y_decitionTree))\n",
    "print(precision_score(testY, pred_y_decitionTree))\n",
    "print(recall_score(testY, pred_y_decitionTree))"
   ]
  },
  {
   "attachments": {},
   "cell_type": "markdown",
   "metadata": {},
   "source": [
    "### KNN"
   ]
  },
  {
   "cell_type": "code",
   "execution_count": 68,
   "metadata": {},
   "outputs": [
    {
     "name": "stdout",
     "output_type": "stream",
     "text": [
      "0.7894736842105263\n",
      "0.8444944944944945\n",
      "0.8307692307692307\n",
      "0.864\n",
      "0.8\n"
     ]
    }
   ],
   "source": [
    "clf_knn = KNeighborsClassifier(n_neighbors=9)\n",
    "clf_knn.fit(X, y)\n",
    "\n",
    "pred_y_knn = clf_knn.predict(testX)\n",
    "print(accuracy_score(testY, pred_y_knn))\n",
    "prob_y_knn = clf_knn.predict_proba(testX)\n",
    "prob_y_knn = [p[1] for p in prob_y_knn]\n",
    "print(roc_auc_score(testY, prob_y_knn))\n",
    "print(f1_score(testY, pred_y_knn))\n",
    "print(precision_score(testY, pred_y_knn))\n",
    "print(recall_score(testY, pred_y_knn))"
   ]
  },
  {
   "attachments": {},
   "cell_type": "markdown",
   "metadata": {},
   "source": [
    "### SVC / SVM"
   ]
  },
  {
   "cell_type": "code",
   "execution_count": 69,
   "metadata": {},
   "outputs": [
    {
     "name": "stdout",
     "output_type": "stream",
     "text": [
      "0.8564593301435407\n",
      "0.917967967967968\n",
      "0.8846153846153846\n",
      "0.92\n",
      "0.8518518518518519\n"
     ]
    }
   ],
   "source": [
    "clf_svc = SVC(kernel='linear',  class_weight='balanced', probability=True)\n",
    "clf_svc.fit(X, y)\n",
    "\n",
    "pred_y_svc = clf_svc.predict(testX)\n",
    "print(accuracy_score(testY, pred_y_svc))\n",
    "prob_y_svc = clf_svc.predict_proba(testX)\n",
    "prob_y_svc = [p[1] for p in prob_y_svc]\n",
    "print(roc_auc_score(testY, prob_y_svc))\n",
    "print(f1_score(testY, pred_y_svc))\n",
    "print(precision_score(testY, pred_y_svc))\n",
    "print(recall_score(testY, pred_y_svc))"
   ]
  },
  {
   "attachments": {},
   "cell_type": "markdown",
   "metadata": {},
   "source": [
    "### Random forest"
   ]
  },
  {
   "cell_type": "code",
   "execution_count": 70,
   "metadata": {},
   "outputs": [
    {
     "name": "stdout",
     "output_type": "stream",
     "text": [
      "0.8373205741626795\n",
      "0.925025025025025\n",
      "0.8740740740740742\n",
      "0.8740740740740741\n",
      "0.8740740740740741\n"
     ]
    },
    {
     "data": {
      "text/plain": [
       "<BarContainer object of 41 artists>"
      ]
     },
     "execution_count": 70,
     "metadata": {},
     "output_type": "execute_result"
    },
    {
     "data": {
      "image/png": "[encoded data removed]",
      "text/plain": [
       "<Figure size 800x800 with 1 Axes>"
      ]
     },
     "metadata": {},
     "output_type": "display_data"
    }
   ],
   "source": [
    "clf_randomForest = RandomForestClassifier(random_state=1234)\n",
    "clf_randomForest.fit(X, y)\n",
    "pred_y_randomForest = clf_randomForest.predict(testX)\n",
    "print(accuracy_score(testY, pred_y_randomForest))\n",
    "prob_y_randomForest = clf_randomForest.predict_proba(testX)\n",
    "prob_y_randomForest = [p[1] for p in prob_y_randomForest]\n",
    "print(roc_auc_score(testY, prob_y_randomForest))\n",
    "print(f1_score(testY, pred_y_randomForest))\n",
    "print(precision_score(testY, pred_y_randomForest))\n",
    "print(recall_score(testY, pred_y_randomForest))\n",
    "\n",
    "f = plt.figure(figsize=(8, 8))\n",
    "sorted_idx = clf_randomForest.feature_importances_.argsort()\n",
    "plt.barh(train.columns[sorted_idx], clf_randomForest.feature_importances_[sorted_idx])"
   ]
  },
  {
   "attachments": {},
   "cell_type": "markdown",
   "metadata": {},
   "source": [
    "### Ada boost"
   ]
  },
  {
   "cell_type": "code",
   "execution_count": 71,
   "metadata": {},
   "outputs": [
    {
     "name": "stdout",
     "output_type": "stream",
     "text": [
      "0.8516746411483254\n",
      "0.8983483483483484\n",
      "0.8888888888888888\n",
      "0.8611111111111112\n",
      "0.9185185185185185\n"
     ]
    }
   ],
   "source": [
    "clf_adaboost = AdaBoostClassifier(n_estimators = 50, learning_rate = 0.2)\n",
    "clf_adaboost.fit(X, y)\n",
    "\n",
    "pred_y_adaboost = clf_adaboost.predict(testX)\n",
    "print(accuracy_score(testY, pred_y_adaboost))\n",
    "prob_y_adaboost = clf_adaboost.predict_proba(testX)\n",
    "prob_y_adaboost = [p[1] for p in prob_y_adaboost]\n",
    "print(roc_auc_score(testY, prob_y_adaboost))\n",
    "print(f1_score(testY, pred_y_adaboost))\n",
    "print(precision_score(testY, pred_y_adaboost))\n",
    "print(recall_score(testY, pred_y_adaboost))"
   ]
  },
  {
   "cell_type": "code",
   "execution_count": 72,
   "metadata": {},
   "outputs": [],
   "source": [
    "def printScores(scores):\n",
    "    avgAccuracy = np.mean(scores['test_accuracy'])\n",
    "    stdAccuracy = np.std(scores['test_accuracy'])\n",
    "    avgF1 = np.mean(scores['test_f1_macro'])\n",
    "    stdF1 = np.std(scores['test_f1_macro'])\n",
    "    avgRecall = np.mean(scores['test_recall_macro'])\n",
    "    stdRecall = np.std(scores['test_recall_macro'])\n",
    "    avgAUC = np.mean(scores['test_roc_auc'])\n",
    "    stdAUC = np.std(scores['test_roc_auc'])\n",
    "    print(f\"Precision average {avgAccuracy} with standard deviation {stdAccuracy}\")\n",
    "    print(f\"F1 average {avgF1} with standard deviation {stdF1}\")\n",
    "    print(f\"Recall average {avgRecall} with standard deviation {stdRecall}\")\n",
    "    print(f\"AUC average {avgAUC} with standard deviation {stdAUC}\")\n",
    "    return avgAccuracy, avgF1, avgRecall, avgAUC"
   ]
  },
  {
   "cell_type": "code",
   "execution_count": 73,
   "metadata": {},
   "outputs": [
    {
     "name": "stdout",
     "output_type": "stream",
     "text": [
      "DecisionTree:\n",
      "Precision average 0.812156862745098 with standard deviation 0.02854376403060423\n",
      "F1 average 0.784408516342152 with standard deviation 0.03202103986272087\n",
      "Recall average 0.7846760605124242 with standard deviation 0.032710517604903296\n",
      "AUC average 0.7846760605124244 with standard deviation 0.0327105176049033\n",
      "KNN:\n",
      "Precision average 0.8037908496732026 with standard deviation 0.03176470588235294\n",
      "F1 average 0.7830756361992742 with standard deviation 0.03501761634187004\n",
      "Recall average 0.7948762190469268 with standard deviation 0.03443701598610628\n",
      "AUC average 0.8695242325608025 with standard deviation 0.029821877354123717\n",
      "SVC:\n",
      "Precision average 0.8483660130718953 with standard deviation 0.02449018822901332\n",
      "F1 average 0.8334307934166105 with standard deviation 0.025822140023746137\n",
      "Recall average 0.8494180778534464 with standard deviation 0.02297552655916109\n",
      "AUC average 0.9172983682699644 with standard deviation 0.021409121779670134\n",
      "Random forest:\n",
      "Precision average 0.8722875816993464 with standard deviation 0.026507599397837152\n",
      "F1 average 0.8493273984299182 with standard deviation 0.030395319693460075\n",
      "Recall average 0.8401993072677727 with standard deviation 0.03133459395358015\n",
      "AUC average 0.931217265590636 with standard deviation 0.022160026982249132\n",
      "Ada boost:\n",
      "Precision average 0.8454901960784312 with standard deviation 0.02781458537908356\n",
      "F1 average 0.8194661758682241 with standard deviation 0.03067931648303135\n",
      "Recall average 0.8135451479407578 with standard deviation 0.030293738100877578\n",
      "AUC average 0.9067507600767993 with standard deviation 0.02745133093093605\n"
     ]
    }
   ],
   "source": [
    "scoring = ['accuracy', 'f1_macro', 'recall_macro', 'roc_auc']\n",
    "rkf = RepeatedKFold(n_splits=5, n_repeats=10, random_state=1234)\n",
    "\n",
    "print(\"DecisionTree:\")\n",
    "scores = cross_validate(clf_decitionTree, X, y, cv=rkf.split(X), scoring=scoring)\n",
    "accDT, f1DT, recallDT, aucDT = printScores(scores)\n",
    "print(\"KNN:\")\n",
    "scores = cross_validate(clf_knn, X, y, cv=rkf.split(X), scoring=scoring)\n",
    "accKNN, f1KNN, recallKNN, aucKNN = printScores(scores)\n",
    "print(\"SVC:\")\n",
    "scores = cross_validate(clf_svc, X, y, cv=rkf.split(X), scoring=scoring)\n",
    "accSVC, f1SVC, recallSVC, aucSVC = printScores(scores)\n",
    "print(\"Random forest:\")\n",
    "scores = cross_validate(clf_randomForest, X, y, cv=rkf.split(X), scoring=scoring)\n",
    "accRF, f1RF, recallRF, aucRF = printScores(scores)\n",
    "print(\"Ada boost:\")\n",
    "scores = cross_validate(clf_adaboost, X, y, cv=rkf.split(X), scoring=scoring)\n",
    "accAB, f1AB, recallAB, aucAB = printScores(scores)\n",
    "\n",
    "accArr = np.array([accDT, accKNN, accSVC, accRF, accAB])\n",
    "f1Arr = np.array([f1DT, f1KNN, f1SVC, f1RF, f1AB])\n",
    "recallArr = np.array([recallDT, recallKNN, recallSVC, recallRF, recallAB])\n",
    "aucArr = np.array([aucDT, aucKNN, aucSVC, aucRF, aucAB])\n",
    "\n"
   ]
  },
  {
   "cell_type": "code",
   "execution_count": 74,
   "metadata": {},
   "outputs": [
    {
     "data": {
      "text/plain": [
       "[<matplotlib.lines.Line2D at 0x1b7de83fd90>]"
      ]
     },
     "execution_count": 74,
     "metadata": {},
     "output_type": "execute_result"
    },
    {
     "data": {
      "image/png": "[encoded data removed]",
      "text/plain": [
       "<Figure size 1000x1000 with 4 Axes>"
      ]
     },
     "metadata": {},
     "output_type": "display_data"
    }
   ],
   "source": [
    "xAxis = ['DecisionTree', 'KNN', 'SVC', 'RandomForest', 'AdaBoost']\n",
    "f = plt.figure(figsize=(10, 10))\n",
    "f.add_subplot(2, 2, 1)\n",
    "plt.title(\"Precision\")\n",
    "plt.ylabel(\"Accuracy\")\n",
    "plt.xlabel(\"Classifiers\")\n",
    "plt.tight_layout()\n",
    "plt.plot(xAxis, accArr, \"bo\", markersize=\"5\")\n",
    "\n",
    "f.add_subplot(2, 2, 2)\n",
    "plt.title(\"F1\")\n",
    "plt.ylabel(\"f1\")\n",
    "plt.xlabel(\"Classifiers\")\n",
    "plt.tight_layout()\n",
    "plt.plot(xAxis, f1Arr, \"bo\", markersize=\"5\")\n",
    "\n",
    "f.add_subplot(2, 2, 3)\n",
    "plt.title(\"Recall\")\n",
    "plt.ylabel(\"Recall\")\n",
    "plt.xlabel(\"Classifiers\")\n",
    "plt.tight_layout()\n",
    "plt.plot(xAxis, recallArr, \"bo\", markersize=\"5\")\n",
    "\n",
    "f.add_subplot(2, 2, 4)\n",
    "plt.title(\"AUC\")\n",
    "plt.ylabel(\"AUC\")\n",
    "plt.xlabel(\"Classifiers\")\n",
    "plt.tight_layout()\n",
    "plt.plot(xAxis, aucArr, \"bo\", markersize=\"5\")"
   ]
  },
  {
   "attachments": {},
   "cell_type": "markdown",
   "metadata": {},
   "source": [
    "Comment on the performance of algorithms and visualize their final scores. How do they perform against\n",
    "the random baseline? What about the constant one? How do different learning scenarios impact the final\n",
    "score? Are the differences between the models statistically significant?\n",
    "\n",
    "Random forest performed the best then SVC and AdaBoost. DecisionTree and KNN performed significantly worse than others. They all perform better than random and constant baseline (50%/66% accuracy). Different parameters will change final scores and also different preprocessing of data might improve the final score (less noise/outliers, more accurate data,...). Differences of the RandomForest, SVC, AdaBoost are not very big, but depending on the needs of the classification different classification model might be more desirable."
   ]
  },
  {
   "attachments": {},
   "cell_type": "markdown",
   "metadata": {},
   "source": [
    "### Paramaters tuning (Random forest)"
   ]
  },
  {
   "cell_type": "code",
   "execution_count": 98,
   "metadata": {},
   "outputs": [
    {
     "name": "stdout",
     "output_type": "stream",
     "text": [
      "Fitting 10 folds for each of 160 candidates, totalling 1600 fits\n",
      "Fitting 10 folds for each of 10 candidates, totalling 100 fits\n"
     ]
    },
    {
     "data": {
      "text/plain": [
       "{'n_estimators': 80,\n",
       " 'min_samples_split': 5,\n",
       " 'min_samples_leaf': 2,\n",
       " 'max_features': 'sqrt',\n",
       " 'max_depth': 4,\n",
       " 'bootstrap': True}"
      ]
     },
     "execution_count": 98,
     "metadata": {},
     "output_type": "execute_result"
    }
   ],
   "source": [
    "params = {'n_estimators': [int(x) for x in np.linspace(start = 10, stop = 80, num = 10)], # Number of trees in random forest\n",
    "               'max_features': ['sqrt'], # Number of features to consider at every split\n",
    "               'max_depth': [2,4], # Maximum number of levels in tree\n",
    "               'min_samples_split':  [2, 5], # Minimum number of samples required to split a node\n",
    "               'min_samples_leaf': [1, 2], # Minimum number of samples required at each leaf node\n",
    "               'bootstrap': [True, False]} # Method of selecting samples for training each tree\n",
    "rf_Model = RandomForestClassifier()\n",
    "rf_Grid = GridSearchCV(estimator = rf_Model, param_grid = params, cv = 10, verbose=2, n_jobs = 4, scoring='f1')\n",
    "rf_Grid.fit(X, y)\n",
    "rf_Grid.best_params_\n",
    "rf_Random = RandomizedSearchCV(estimator = rf_Model, param_distributions = params, cv = 10, verbose=2, n_jobs = 4, scoring='f1')\n",
    "rf_Random.fit(X, y)\n",
    "rf_Random.best_params_"
   ]
  },
  {
   "cell_type": "code",
   "execution_count": 99,
   "metadata": {},
   "outputs": [
    {
     "name": "stdout",
     "output_type": "stream",
     "text": [
      "Train Accuracy - : 1.000\n",
      "Test Accuracy - : 1.000\n",
      "Train Accuracy - : 0.995\n",
      "Test Accuracy - : 0.982\n"
     ]
    }
   ],
   "source": [
    "print (f'Train Accuracy - : {rf_Grid.score(X,y):.3f}')\n",
    "print (f'Test Accuracy - : {rf_Grid.score(testX,testY):.3f}')\n",
    "print (f'Train Accuracy - : {rf_Random.score(X,y):.3f}')\n",
    "print (f'Test Accuracy - : {rf_Random.score(testX,testY):.3f}')"
   ]
  },
  {
   "attachments": {},
   "cell_type": "markdown",
   "metadata": {},
   "source": [
    "### Parameter tuning (AdaBoost)"
   ]
  },
  {
   "cell_type": "code",
   "execution_count": 100,
   "metadata": {},
   "outputs": [
    {
     "name": "stdout",
     "output_type": "stream",
     "text": [
      "Fitting 5 folds for each of 80 candidates, totalling 400 fits\n",
      "Fitting 5 folds for each of 10 candidates, totalling 50 fits\n"
     ]
    },
    {
     "data": {
      "text/plain": [
       "{'n_estimators': 1000,\n",
       " 'learning_rate': 0.01,\n",
       " 'base_estimator__min_samples_leaf': 5,\n",
       " 'base_estimator__max_depth': 6}"
      ]
     },
     "execution_count": 100,
     "metadata": {},
     "output_type": "execute_result"
    }
   ],
   "source": [
    "adaBoostModel = AdaBoostClassifier(base_estimator=DecisionTreeClassifier())\n",
    "\n",
    "params = {'base_estimator__max_depth':[i for i in range(2,11,2)],\n",
    "              'base_estimator__min_samples_leaf':[5,10],\n",
    "              'n_estimators':[10,50,250,1000],\n",
    "              'learning_rate':[0.01,0.1]}\n",
    "\n",
    "adaBoost_Grid = GridSearchCV(adaBoostModel, params, verbose=3, scoring='f1', n_jobs=-1)\n",
    "adaBoost_Grid.fit(X,y)\n",
    "adaBoost_Grid.best_params_\n",
    "adaBoost_Random = RandomizedSearchCV(estimator = adaBoostModel, param_distributions = params, cv = 5, verbose=2, n_jobs = 4, scoring='f1')\n",
    "adaBoost_Random.fit(X, y)\n",
    "adaBoost_Random.best_params_"
   ]
  },
  {
   "cell_type": "code",
   "execution_count": 101,
   "metadata": {},
   "outputs": [
    {
     "name": "stdout",
     "output_type": "stream",
     "text": [
      "Train Accuracy - : 1.000\n",
      "Test Accuracy - : 1.000\n",
      "Train Accuracy - : 1.000\n",
      "Test Accuracy - : 1.000\n"
     ]
    }
   ],
   "source": [
    "print (f'Train Accuracy - : {adaBoost_Grid.score(X,y):.3f}')\n",
    "print (f'Test Accuracy - : {adaBoost_Grid.score(testX,testY):.3f}')\n",
    "print (f'Train Accuracy - : {adaBoost_Random.score(X,y):.3f}')\n",
    "print (f'Test Accuracy - : {adaBoost_Random.score(testX,testY):.3f}')"
   ]
  },
  {
   "attachments": {},
   "cell_type": "markdown",
   "metadata": {},
   "source": [
    "### Parameter tuning (SVC)"
   ]
  },
  {
   "cell_type": "code",
   "execution_count": 102,
   "metadata": {},
   "outputs": [
    {
     "data": {
      "text/plain": [
       "{'C': 2.209602254061174, 'gamma': 0.8670701646824878}"
      ]
     },
     "execution_count": 102,
     "metadata": {},
     "output_type": "execute_result"
    }
   ],
   "source": [
    "from scipy import stats\n",
    "\n",
    "svcModel = SVC(kernel='linear',  class_weight='balanced', probability=True)\n",
    "params = {\"C\": np.arange(2, 10, 2),\n",
    "             \"gamma\": np.arange(0.1, 1, 0.2)}\n",
    " \n",
    "svc_Grid = GridSearchCV(svcModel, param_grid = params, n_jobs = 4, cv = 3, scoring='f1') \n",
    "svc_Grid.fit(X, y) \n",
    "svc_Grid.best_params_\n",
    " \n",
    "params = {\"C\": stats.uniform(2, 10),\n",
    "            \"gamma\": stats.uniform(0.1, 1)}\n",
    "              \n",
    "svc_Random = RandomizedSearchCV(svcModel, param_distributions = params, n_iter = 20, n_jobs = 4, cv = 3, random_state = 2017, scoring='f1') \n",
    "svc_Random.fit(X, y) \n",
    "svc_Random.best_params_"
   ]
  },
  {
   "cell_type": "code",
   "execution_count": 103,
   "metadata": {},
   "outputs": [
    {
     "name": "stdout",
     "output_type": "stream",
     "text": [
      "Train Accuracy - : 1.000\n",
      "Test Accuracy - : 1.000\n",
      "Train Accuracy - : 1.000\n",
      "Test Accuracy - : 1.000\n"
     ]
    }
   ],
   "source": [
    "print (f'Train Accuracy - : {svc_Grid.score(X,y):.3f}')\n",
    "print (f'Test Accuracy - : {svc_Grid.score(testX,testY):.3f}')\n",
    "print (f'Train Accuracy - : {svc_Random.score(X,y):.3f}')\n",
    "print (f'Test Accuracy - : {svc_Random.score(testX,testY):.3f}')"
   ]
  }
 ],
 "metadata": {
  "kernelspec": {
   "display_name": "Python 3",
   "language": "python",
   "name": "python3"
  },
  "language_info": {
   "codemirror_mode": {
    "name": "ipython",
    "version": 3
   },
   "file_extension": ".py",
   "mimetype": "text/x-python",
   "name": "python",
   "nbconvert_exporter": "python",
   "pygments_lexer": "ipython3",
   "version": "3.10.6"
  },
  "orig_nbformat": 4,
  "vscode": {
   "interpreter": {
    "hash": "cb4d557434260ebf075e28dd60749004257cbe2841be8fafa16b5a0ada42e623"
   }
  }
 },
 "nbformat": 4,
 "nbformat_minor": 2
}
